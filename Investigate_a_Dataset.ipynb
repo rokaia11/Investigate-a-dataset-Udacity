{
 "cells": [
  {
   "cell_type": "markdown",
   "metadata": {},
   "source": [
    "# Project: Investigating Movies Dataset\n",
    "\n",
    "## Table of Contents\n",
    "<ul>\n",
    "<li><a href=\"#intro\">Introduction</a></li>\n",
    "<li><a href=\"#wrangling\">Data Wrangling</a></li>\n",
    "<li><a href=\"#eda\">Exploratory Data Analysis</a></li>\n",
    "<li><a href=\"#conclusions\">Conclusions</a></li>\n",
    "</ul>"
   ]
  },
  {
   "cell_type": "markdown",
   "metadata": {},
   "source": [
    "<a id='intro'></a>\n",
    "## Introduction\n",
    "\n",
    "### Dataset Description \n",
    "\n",
    "> Dataset of movies from TMDB (The Movie Data Base) with information about movies released from 1960 to 2015, including columns of movie id, imdb id, cast, genre, production companies, budget, revenue, director, overview, runtime and other."
   ]
  },
  {
   "cell_type": "markdown",
   "metadata": {},
   "source": [
    "## Analysis Questions\n",
    "\n",
    "> **Question 1**: *How does budget, revenue and vote average each affect the success of movies?* \n",
    "\n",
    "> **Question 2**: *Does a higher budget (greater investment) lead to higher ratings?*\n",
    "\n",
    "> **Question 3**: *How does budget affect the audience reach through the vote counts?*\n",
    "\n",
    "> **Question 4**: *How does budget and revenue relate to popularity and what is the relation between the 3 features?*"
   ]
  },
  {
   "cell_type": "code",
   "execution_count": 2,
   "metadata": {},
   "outputs": [],
   "source": [
    "import pandas as pd\n",
    "import numpy as np\n",
    "import matplotlib.pyplot as plt"
   ]
  },
  {
   "cell_type": "code",
   "execution_count": 3,
   "metadata": {},
   "outputs": [
    {
     "name": "stdout",
     "output_type": "stream",
     "text": [
      "Collecting pandas==0.23.4\n",
      "\u001b[?25l  Downloading https://files.pythonhosted.org/packages/e1/d8/feeb346d41f181e83fba45224ab14a8d8af019b48af742e047f3845d8cff/pandas-0.23.4-cp36-cp36m-manylinux1_x86_64.whl (8.9MB)\n",
      "\u001b[K    100% |████████████████████████████████| 8.9MB 3.0MB/s eta 0:00:01\n",
      "\u001b[?25hRequirement already satisfied: pytz>=2011k in /opt/conda/lib/python3.6/site-packages (from pandas==0.23.4) (2017.3)\n",
      "Requirement already satisfied: numpy>=1.9.0 in /opt/conda/lib/python3.6/site-packages (from pandas==0.23.4) (1.12.1)\n",
      "Requirement already satisfied: python-dateutil>=2.5.0 in /opt/conda/lib/python3.6/site-packages (from pandas==0.23.4) (2.6.1)\n",
      "Requirement already satisfied: six>=1.5 in /opt/conda/lib/python3.6/site-packages (from python-dateutil>=2.5.0->pandas==0.23.4) (1.11.0)\n",
      "Installing collected packages: pandas\n",
      "  Found existing installation: pandas 0.23.3\n",
      "    Uninstalling pandas-0.23.3:\n",
      "      Successfully uninstalled pandas-0.23.3\n",
      "Successfully installed pandas-0.23.4\n"
     ]
    }
   ],
   "source": [
    "# Upgrading pandas \n",
    "!pip install pandas==0.23.4"
   ]
  },
  {
   "cell_type": "markdown",
   "metadata": {},
   "source": [
    "<a id='wrangling'></a>\n",
    "## Data Wrangling"
   ]
  },
  {
   "cell_type": "markdown",
   "metadata": {},
   "source": [
    "### Data Gathering"
   ]
  },
  {
   "cell_type": "code",
   "execution_count": 7,
   "metadata": {},
   "outputs": [],
   "source": [
    "df = pd.read_csv('Database_TMDb_movie_data/tmdb-movies.csv')"
   ]
  },
  {
   "cell_type": "code",
   "execution_count": 8,
   "metadata": {},
   "outputs": [
    {
     "name": "stdout",
     "output_type": "stream",
     "text": [
      "       id    imdb_id  popularity     budget     revenue  \\\n",
      "0  135397  tt0369610   32.985763  150000000  1513528810   \n",
      "1   76341  tt1392190   28.419936  150000000   378436354   \n",
      "2  262500  tt2908446   13.112507  110000000   295238201   \n",
      "3  140607  tt2488496   11.173104  200000000  2068178225   \n",
      "4  168259  tt2820852    9.335014  190000000  1506249360   \n",
      "\n",
      "                 original_title  \\\n",
      "0                Jurassic World   \n",
      "1            Mad Max: Fury Road   \n",
      "2                     Insurgent   \n",
      "3  Star Wars: The Force Awakens   \n",
      "4                     Furious 7   \n",
      "\n",
      "                                                cast  \\\n",
      "0  Chris Pratt|Bryce Dallas Howard|Irrfan Khan|Vi...   \n",
      "1  Tom Hardy|Charlize Theron|Hugh Keays-Byrne|Nic...   \n",
      "2  Shailene Woodley|Theo James|Kate Winslet|Ansel...   \n",
      "3  Harrison Ford|Mark Hamill|Carrie Fisher|Adam D...   \n",
      "4  Vin Diesel|Paul Walker|Jason Statham|Michelle ...   \n",
      "\n",
      "                                            homepage          director  \\\n",
      "0                      http://www.jurassicworld.com/   Colin Trevorrow   \n",
      "1                        http://www.madmaxmovie.com/     George Miller   \n",
      "2     http://www.thedivergentseries.movie/#insurgent  Robert Schwentke   \n",
      "3  http://www.starwars.com/films/star-wars-episod...       J.J. Abrams   \n",
      "4                           http://www.furious7.com/         James Wan   \n",
      "\n",
      "                         tagline      ...       \\\n",
      "0              The park is open.      ...        \n",
      "1             What a Lovely Day.      ...        \n",
      "2     One Choice Can Destroy You      ...        \n",
      "3  Every generation has a story.      ...        \n",
      "4            Vengeance Hits Home      ...        \n",
      "\n",
      "                                            overview runtime  \\\n",
      "0  Twenty-two years after the events of Jurassic ...     124   \n",
      "1  An apocalyptic story set in the furthest reach...     120   \n",
      "2  Beatrice Prior must confront her inner demons ...     119   \n",
      "3  Thirty years after defeating the Galactic Empi...     136   \n",
      "4  Deckard Shaw seeks revenge against Dominic Tor...     137   \n",
      "\n",
      "                                      genres  \\\n",
      "0  Action|Adventure|Science Fiction|Thriller   \n",
      "1  Action|Adventure|Science Fiction|Thriller   \n",
      "2         Adventure|Science Fiction|Thriller   \n",
      "3   Action|Adventure|Science Fiction|Fantasy   \n",
      "4                      Action|Crime|Thriller   \n",
      "\n",
      "                                production_companies release_date vote_count  \\\n",
      "0  Universal Studios|Amblin Entertainment|Legenda...       6/9/15       5562   \n",
      "1  Village Roadshow Pictures|Kennedy Miller Produ...      5/13/15       6185   \n",
      "2  Summit Entertainment|Mandeville Films|Red Wago...      3/18/15       2480   \n",
      "3          Lucasfilm|Truenorth Productions|Bad Robot     12/15/15       5292   \n",
      "4  Universal Pictures|Original Film|Media Rights ...       4/1/15       2947   \n",
      "\n",
      "   vote_average  release_year    budget_adj   revenue_adj  \n",
      "0           6.5          2015  1.379999e+08  1.392446e+09  \n",
      "1           7.1          2015  1.379999e+08  3.481613e+08  \n",
      "2           6.3          2015  1.012000e+08  2.716190e+08  \n",
      "3           7.5          2015  1.839999e+08  1.902723e+09  \n",
      "4           7.3          2015  1.747999e+08  1.385749e+09  \n",
      "\n",
      "[5 rows x 21 columns]\n"
     ]
    }
   ],
   "source": [
    "print(df.head())"
   ]
  },
  {
   "cell_type": "markdown",
   "metadata": {},
   "source": [
    "### Data Assessment"
   ]
  },
  {
   "cell_type": "code",
   "execution_count": 9,
   "metadata": {},
   "outputs": [
    {
     "data": {
      "text/plain": [
       "(10866, 21)"
      ]
     },
     "execution_count": 9,
     "metadata": {},
     "output_type": "execute_result"
    }
   ],
   "source": [
    "df.shape"
   ]
  },
  {
   "cell_type": "code",
   "execution_count": 10,
   "metadata": {},
   "outputs": [
    {
     "name": "stdout",
     "output_type": "stream",
     "text": [
      "<class 'pandas.core.frame.DataFrame'>\n",
      "RangeIndex: 10866 entries, 0 to 10865\n",
      "Data columns (total 21 columns):\n",
      "id                      10866 non-null int64\n",
      "imdb_id                 10856 non-null object\n",
      "popularity              10866 non-null float64\n",
      "budget                  10866 non-null int64\n",
      "revenue                 10866 non-null int64\n",
      "original_title          10866 non-null object\n",
      "cast                    10790 non-null object\n",
      "homepage                2936 non-null object\n",
      "director                10822 non-null object\n",
      "tagline                 8042 non-null object\n",
      "keywords                9373 non-null object\n",
      "overview                10862 non-null object\n",
      "runtime                 10866 non-null int64\n",
      "genres                  10843 non-null object\n",
      "production_companies    9836 non-null object\n",
      "release_date            10866 non-null object\n",
      "vote_count              10866 non-null int64\n",
      "vote_average            10866 non-null float64\n",
      "release_year            10866 non-null int64\n",
      "budget_adj              10866 non-null float64\n",
      "revenue_adj             10866 non-null float64\n",
      "dtypes: float64(4), int64(6), object(11)\n",
      "memory usage: 1.7+ MB\n"
     ]
    }
   ],
   "source": [
    "df.info()"
   ]
  },
  {
   "cell_type": "markdown",
   "metadata": {},
   "source": [
    "### Data Cleaning "
   ]
  },
  {
   "cell_type": "markdown",
   "metadata": {},
   "source": [
    "#### Dropping columns of id, imdb_id, homepage, tagline, keywords, overview and production companies.\n",
    "- The conducted analysis questions focus on the financial aspects as well as the performance and thus those columns do not represent impacting factors for these areas of the analysis."
   ]
  },
  {
   "cell_type": "code",
   "execution_count": 11,
   "metadata": {},
   "outputs": [],
   "source": [
    "df.drop(columns = ['id', 'imdb_id', 'homepage', 'tagline', 'keywords', 'overview', 'production_companies'], inplace = True)"
   ]
  },
  {
   "cell_type": "code",
   "execution_count": 12,
   "metadata": {},
   "outputs": [
    {
     "data": {
      "text/plain": [
       "popularity         0\n",
       "budget             0\n",
       "revenue            0\n",
       "original_title     0\n",
       "cast              76\n",
       "director          44\n",
       "runtime            0\n",
       "genres            23\n",
       "release_date       0\n",
       "vote_count         0\n",
       "vote_average       0\n",
       "release_year       0\n",
       "budget_adj         0\n",
       "revenue_adj        0\n",
       "dtype: int64"
      ]
     },
     "execution_count": 12,
     "metadata": {},
     "output_type": "execute_result"
    }
   ],
   "source": [
    "df.isnull().sum()"
   ]
  },
  {
   "cell_type": "markdown",
   "metadata": {},
   "source": [
    "> As the null values are present in columns of non numeric data types (neither integer nor float) which are cast, director and genres, the best way to clean the data from those missing values is by dropping them only by the dropna method and not filling any."
   ]
  },
  {
   "cell_type": "code",
   "execution_count": 13,
   "metadata": {},
   "outputs": [
    {
     "name": "stdout",
     "output_type": "stream",
     "text": [
      "cast is object\n",
      "director is object\n",
      "genres is object\n"
     ]
    }
   ],
   "source": [
    "columns_with_null = pd.Series(['cast', 'director', 'genres'])\n",
    "for column in columns_with_null:\n",
    "    print(f\"{column} is {df[column].dtypes}\")"
   ]
  },
  {
   "cell_type": "code",
   "execution_count": 14,
   "metadata": {},
   "outputs": [],
   "source": [
    "df.dropna(inplace= True)\n",
    "df.drop_duplicates(inplace = True)"
   ]
  },
  {
   "cell_type": "markdown",
   "metadata": {},
   "source": [
    "> No data type conversions will take place as the intended columns to be analyzed of budget, revenue, vote_average, vote_count and popularity are in the required data type.\n",
    "\n",
    "> The release_date column data type is not converted into date-time type in order to not affect the upcoming visualizations of numeric column data types."
   ]
  },
  {
   "cell_type": "code",
   "execution_count": 15,
   "metadata": {},
   "outputs": [
    {
     "name": "stdout",
     "output_type": "stream",
     "text": [
      "budget is int64\n",
      "revenue is int64\n",
      "vote_average is float64\n",
      "vote_count is int64\n",
      "popularity is float64\n"
     ]
    }
   ],
   "source": [
    "columns_to_analyze = pd.Series(['budget', 'revenue', 'vote_average', 'vote_count', 'popularity'])\n",
    "for column in columns_to_analyze:\n",
    "    print(f\"{column} is {df[column].dtype}\")"
   ]
  },
  {
   "cell_type": "markdown",
   "metadata": {},
   "source": [
    "<a id='eda'></a>\n",
    "## Exploratory Data Analysis\n",
    "\n",
    "\n",
    "### Question 1: How does budget, revenue and vote average each affect movies?"
   ]
  },
  {
   "cell_type": "markdown",
   "metadata": {},
   "source": [
    " *Histograms are chosen because they show the data distribution clearly and concisely*"
   ]
  },
  {
   "cell_type": "code",
   "execution_count": 35,
   "metadata": {},
   "outputs": [],
   "source": [
    "# Creating a function that reduce code repetition of generating histograms for given column\n",
    "def hist_generator(df,column):\n",
    "    plt.hist(df[column], bins = 20);\n",
    "    plt.xlabel(column.title())\n",
    "    plt.ylabel('Frequency')\n",
    "    plt.title(f\"{column.title()} Distribution\");"
   ]
  },
  {
   "cell_type": "code",
   "execution_count": 36,
   "metadata": {},
   "outputs": [],
   "source": [
    "# To remove the scientific notation from the float data values\n",
    "pd.options.display.float_format = '{:,.0f}'.format"
   ]
  },
  {
   "cell_type": "code",
   "execution_count": 37,
   "metadata": {
    "scrolled": true
   },
   "outputs": [
    {
     "data": {
      "image/png": "[encoded data removed]",
      "text/plain": [
       "<matplotlib.figure.Figure at 0x7c19b4ccbd30>"
      ]
     },
     "metadata": {
      "needs_background": "light"
     },
     "output_type": "display_data"
    }
   ],
   "source": [
    "# Overview at the distribution of Budget\n",
    "hist_generator(df,'budget')"
   ]
  },
  {
   "cell_type": "code",
   "execution_count": 33,
   "metadata": {},
   "outputs": [
    {
     "data": {
      "text/plain": [
       "count        10,731\n",
       "mean     14,803,646\n",
       "std      31,064,556\n",
       "min               0\n",
       "25%               0\n",
       "50%               0\n",
       "75%      16,000,000\n",
       "max     425,000,000\n",
       "Name: budget, dtype: float64"
      ]
     },
     "execution_count": 33,
     "metadata": {},
     "output_type": "execute_result"
    }
   ],
   "source": [
    "df['budget'].describe()"
   ]
  },
  {
   "cell_type": "markdown",
   "metadata": {},
   "source": [
    "> Most movies are produced with low budgets where movies with high budgets are rare."
   ]
  },
  {
   "cell_type": "code",
   "execution_count": 29,
   "metadata": {},
   "outputs": [
    {
     "data": {
      "image/png": "[encoded data removed]",
      "text/plain": [
       "<matplotlib.figure.Figure at 0x7c19b4ca58d0>"
      ]
     },
     "metadata": {
      "needs_background": "light"
     },
     "output_type": "display_data"
    }
   ],
   "source": [
    "# Overview at the distribution of Revenue\n",
    "hist_generator(df,'revenue')"
   ]
  },
  {
   "cell_type": "code",
   "execution_count": 38,
   "metadata": {},
   "outputs": [
    {
     "data": {
      "text/plain": [
       "count          10,866\n",
       "mean       39,823,320\n",
       "std       117,003,487\n",
       "min                 0\n",
       "25%                 0\n",
       "50%                 0\n",
       "75%        24,000,000\n",
       "max     2,781,505,847\n",
       "Name: revenue, dtype: float64"
      ]
     },
     "execution_count": 38,
     "metadata": {},
     "output_type": "execute_result"
    }
   ],
   "source": [
    "df['revenue'].describe()"
   ]
  },
  {
   "cell_type": "markdown",
   "metadata": {},
   "source": [
    "> Most movies made low revenues and even some movies made 0 revenues suggesting that they might not have been released in cinemas.\n",
    "\n",
    "> Presence of positive correlation between budget and revenue where low budget movies made low revenues."
   ]
  },
  {
   "cell_type": "code",
   "execution_count": 30,
   "metadata": {
    "scrolled": true
   },
   "outputs": [
    {
     "data": {
      "image/png": "[encoded data removed]",
      "text/plain": [
       "<matplotlib.figure.Figure at 0x7c19b4d161d0>"
      ]
     },
     "metadata": {
      "needs_background": "light"
     },
     "output_type": "display_data"
    }
   ],
   "source": [
    "# Overview at the distribution of Rating\n",
    "hist_generator(df,'vote_average')"
   ]
  },
  {
   "cell_type": "markdown",
   "metadata": {},
   "source": [
    "> An approximate normal distribution showing that most movies receive average ratings from 5 to 7 while very small number of movies receive ratings greater than or equal to 8."
   ]
  },
  {
   "cell_type": "markdown",
   "metadata": {},
   "source": [
    "### Question 2: Does a higher budget (greater investment) lead to higher ratings?"
   ]
  },
  {
   "cell_type": "code",
   "execution_count": 38,
   "metadata": {},
   "outputs": [],
   "source": [
    "# Function that converts data frame columns into NumPy Arrays in order to perfom operations on them\n",
    "\"\"\"\n",
    "Arguments:\n",
    "    df: Data Frame where the column exists\n",
    "    column: Takes the column name\n",
    "\n",
    "Returns:\n",
    "    A rank 1 numpy array from a data frame column\n",
    "\n",
    "\"\"\"\n",
    "\n",
    "def column_to_array(df,column):\n",
    "    np_array = np.array(df[column]).flatten()\n",
    "    return np_array"
   ]
  },
  {
   "cell_type": "code",
   "execution_count": 39,
   "metadata": {
    "scrolled": true
   },
   "outputs": [
    {
     "name": "stdout",
     "output_type": "stream",
     "text": [
      "High budget movies average rating: 6.0\n",
      "Low budget movies average rating: 5.9\n"
     ]
    }
   ],
   "source": [
    "budget = column_to_array(df,'budget')\n",
    "rating = column_to_array(df,'vote_average')\n",
    "# Code (Masks) to get average ratings (vote_average) based on the average of high/low budget movies\n",
    "budget_median = np.median(budget) # Median is applied because it is not affected by outliers\n",
    "high_budget_ratings = rating[budget > budget_median]\n",
    "low_budget_ratings = rating[budget <= budget_median]\n",
    "average_high_budget = np.mean(high_budget_ratings)\n",
    "average_low_budget = np.mean(low_budget_ratings)\n",
    "\n",
    "print(f\"High budget movies average rating: {average_high_budget:.1f}\") # Round to first decimal value\n",
    "print(f\"Low budget movies average rating: {average_low_budget:.1f}\")"
   ]
  },
  {
   "cell_type": "markdown",
   "metadata": {},
   "source": [
    "### Answer\n",
    "\n",
    "While high budget movies tend to get higher ratings than low budget ones, but the difference is too small to be considered a factor and thus increasing the budget does not always guarantee high ratings."
   ]
  },
  {
   "cell_type": "markdown",
   "metadata": {},
   "source": [
    "### Question 3: How does budget affect the audience reach through the vote counts?"
   ]
  },
  {
   "cell_type": "code",
   "execution_count": 40,
   "metadata": {
    "scrolled": true
   },
   "outputs": [
    {
     "name": "stdout",
     "output_type": "stream",
     "text": [
      "High budget movies average vote counts: 410\n",
      "Low budget movies average vote counts: 44\n"
     ]
    }
   ],
   "source": [
    "budget = column_to_array(df,'budget')\n",
    "vote_counts = column_to_array(df, 'vote_count')\n",
    "# Code (Masks) to get average number of votes (vote_counts) based on the average of high/low budget of movies\n",
    "median_budget = np.median(budget)  # Median is applied because it is not affected by outliers\n",
    "high_budget_numvotes = vote_counts[budget > median_budget]\n",
    "low_budget_numvotes = vote_counts[budget <= median_budget]\n",
    "average_high_budget_votes = np.mean(high_budget_numvotes)\n",
    "average_low_budget_votes = np.mean(low_budget_numvotes)\n",
    "\n",
    "print(f\"High budget movies average vote counts: {average_high_budget_votes:.0f}\") # Rounded to nearest integer as vote_counts is discrete quantitative data\n",
    "print(f\"Low budget movies average vote counts: {average_low_budget_votes:.0f}\")"
   ]
  },
  {
   "cell_type": "markdown",
   "metadata": {},
   "source": [
    "## Answer (Observation)\n",
    "High budget has great vote counts which means bigger reach for audience so budget is highly correlated with vote counts. "
   ]
  },
  {
   "cell_type": "markdown",
   "metadata": {},
   "source": [
    "### Question 4: How does budget and revenue relate to popularity and what is the relation between the 3 features?"
   ]
  },
  {
   "cell_type": "markdown",
   "metadata": {},
   "source": [
    "*Scatter plot is choosen because it is the most suitable graph to show the relation between 3 features as well as showing the data trends and clusters*"
   ]
  },
  {
   "cell_type": "code",
   "execution_count": 42,
   "metadata": {},
   "outputs": [
    {
     "data": {
      "image/png": "[encoded data removed]",
      "text/plain": [
       "<matplotlib.figure.Figure at 0x7c19b4ce9b70>"
      ]
     },
     "metadata": {
      "needs_background": "light"
     },
     "output_type": "display_data"
    }
   ],
   "source": [
    "# Getting a 150 movies sample from the dataset in order to prevent dense clustering for a clear visualization\n",
    "df_sample = df.sample(n = 150, random_state = 42)  # random_state is applied to ensure having the same sample each time running the code\n",
    "\n",
    "plt.figure(figsize = (8,4))\n",
    "plt.scatter(df_sample['budget'], df_sample['revenue'], s = df_sample['popularity']*25, c = df_sample['popularity'], alpha = 0.8)\n",
    "plt.xlabel(\"Budget\")\n",
    "plt.ylabel(\"Revenue\")\n",
    "plt.title(\"Relation between Budget, Revenue and Popularity\")\n",
    "cbar = plt.colorbar()\n",
    "cbar.set_label(\"Popularity\")\n",
    "plt.show()"
   ]
  },
  {
   "cell_type": "markdown",
   "metadata": {},
   "source": [
    "## Answer (Observation)\n",
    "\n",
    " - The previously observed positive relation between budget and revenue is visible on the plot.\n",
    " - Some low budget movies make high revenues indicating that budget is not the only factor that controls revenue.\n",
    " - Most popular movies resembled in green and yellow dots cluster around movies of medium to high budgets and revenues.\n",
    " - Not all movies of high revenue are the most popular, so high revenues do not guarantee popularity."
   ]
  },
  {
   "cell_type": "markdown",
   "metadata": {},
   "source": [
    "<a id='conclusions'></a>\n",
    "## Conclusions\n",
    "\n",
    "> The conducted analysis showed that most movies are produced with low budgets and make low revenue while high budget movies are rare. It was observed that there is a positive correlation between budget and revenue but it became clear that budget as a single factor is not associated with high revenue as there were some low budget movies that made high revenues.\n",
    "\n",
    "> On conducting analysis to find the relation between movie budget and ratings, it turned out that high budget movies tend to receive slightly better ratings but the effect is extremely small to be considered an associated factor and thus increasing the budget does not always guarantee high ratings. Instead it was clearly observed that budget is strongly correlated with audience reach.\n",
    "\n",
    "> Upon exploring the triad relation between budget, revenue and popularity. The positive correlation between revenue and budget was obvious and turned out that not all movies of high revenue are the most popular therefore high revenues are not associated with popularity. In addition to the observation that most popular movies were of moderate to high budgets and revenues.\n",
    "\n",
    "\n",
    "## Additional Research\n",
    "\n",
    " - Additional analysis regarding audience can be conducted in terms of gathering and exploring audience cultural backgrounds and their engagement with specific movie genres and its effect on revenue.\n",
    "\n",
    " - More analysis regarding director with cast and their influence on movie budget, revenue and popularity can be further explored.\n",
    "\n",
    " - Research in how releasing movies in seasons and special occations affect their revenue and audience reach.\n",
    "\n",
    "## Limitations\n",
    " - Budget and revenue are analyzed without applying inflation rates which might misrepresent analysis for long-term durations.\n",
    " - The sample taken from the dataset to find the relation between budget, revenue and popularity might not be accurately representative for the whole dataset.\n",
    " - The difficulty in analyzing categorical data without additional preprocessing such as in cast and genres columns due to the presence of multiple values in one row."
   ]
  },
  {
   "cell_type": "code",
   "execution_count": 43,
   "metadata": {},
   "outputs": [
    {
     "data": {
      "text/plain": [
       "0"
      ]
     },
     "execution_count": 43,
     "metadata": {},
     "output_type": "execute_result"
    }
   ],
   "source": [
    "from subprocess import call\n",
    "call(['python', '-m', 'nbconvert', 'Investigate_a_Dataset.ipynb'])"
   ]
  }
 ],
 "metadata": {
  "kernelspec": {
   "display_name": "Python 3",
   "language": "python",
   "name": "python3"
  },
  "language_info": {
   "codemirror_mode": {
    "name": "ipython",
    "version": 3
   },
   "file_extension": ".py",
   "mimetype": "text/x-python",
   "name": "python",
   "nbconvert_exporter": "python",
   "pygments_lexer": "ipython3",
   "version": "3.6.3"
  }
 },
 "nbformat": 4,
 "nbformat_minor": 2
}
